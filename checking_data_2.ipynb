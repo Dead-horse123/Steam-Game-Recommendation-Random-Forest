{
 "cells": [
  {
   "cell_type": "code",
   "execution_count": 52,
   "metadata": {},
   "outputs": [],
   "source": [
    "import pandas as pd\n",
    "games = pd.read_csv(\"final_games_details.csv\")"
   ]
  },
  {
   "cell_type": "code",
   "execution_count": 53,
   "metadata": {},
   "outputs": [],
   "source": [
    "all_devs = games['Dev'].str.split(',').explode().str.strip()\n",
    "unique_devs = all_devs.unique()"
   ]
  },
  {
   "cell_type": "code",
   "execution_count": 54,
   "metadata": {},
   "outputs": [
    {
     "name": "stdout",
     "output_type": "stream",
     "text": [
      "46240\n"
     ]
    }
   ],
   "source": [
    "print(len(unique_devs))"
   ]
  },
  {
   "cell_type": "code",
   "execution_count": 55,
   "metadata": {},
   "outputs": [
    {
     "name": "stdout",
     "output_type": "stream",
     "text": [
      "Dev\n",
      "Inc.                     582\n",
      "LLC                      477\n",
      "Big Fish Games           442\n",
      "Ltd.                     410\n",
      "8floor                   195\n",
      "                        ... \n",
      "Curiscope                  1\n",
      "开翼网络                       1\n",
      "AHDS                       1\n",
      "NighthoodGames             1\n",
      "BigCode Games Pvt Ltd      1\n",
      "Name: count, Length: 46240, dtype: int64\n"
     ]
    }
   ],
   "source": [
    "dev_value_counts = all_devs.value_counts()\n",
    "\n",
    "print(dev_value_counts)"
   ]
  },
  {
   "cell_type": "code",
   "execution_count": 56,
   "metadata": {},
   "outputs": [],
   "source": [
    "for i in unique_devs:\n",
    "    if not isinstance(i, str):\n",
    "        print(i)"
   ]
  },
  {
   "cell_type": "code",
   "execution_count": 57,
   "metadata": {},
   "outputs": [
    {
     "name": "stdout",
     "output_type": "stream",
     "text": [
      "['Steam Trading Cards' 'Trading' 'Tactical' 'Free to Play' 'Difficult'\n",
      " 'Online Co-Op' 'Military' 'Steam Achievements' 'Stats' 'Moddable'\n",
      " 'Full controller support' 'Steam Workshop' 'Remote Play on Tablet'\n",
      " 'Co-op' 'Remote Play on Phone' 'War' 'PvP' 'e-sports' 'Multi-player'\n",
      " 'Action' 'Competitive' 'Remote Play on TV' 'Valve Anti-Cheat enabled'\n",
      " 'Multiplayer' 'FPS' 'In-App Purchases' 'Realistic' 'Fast-Paced'\n",
      " 'Team-Based' 'Strategy' 'Shooter' 'First-Person' 'Replay Value'\n",
      " 'Action RPG' 'Character Customization' 'Fantasy' 'SteamVR Collectibles'\n",
      " 'RTS' 'RPG' 'Tower Defense' 'MOBA' 'Simulation' 'Automobile Sim'\n",
      " 'Third-Person Shooter' 'Single-player' 'Atmospheric' 'Comedy' 'Mature'\n",
      " 'Sandbox' 'Singleplayer' 'Online Co-op' 'Funny' 'Adventure' 'Crime'\n",
      " 'Great Soundtrack' 'Racing' 'Online PvP' 'Third Person' 'Open World'\n",
      " 'Massively Multiplayer' 'Survival' 'Battle Royale' 'Stealth'\n",
      " 'Early Access' 'Exploration' 'Building' 'Pixel Graphics' 'Indie'\n",
      " 'Crafting' 'Open World Survival Craft' '2D' 'Platformer' 'Steam Cloud'\n",
      " 'Hero Shooter' 'Robots' 'Class-Based' 'Cartoon' 'Commentary available'\n",
      " 'Includes level editor' 'Cartoony' 'Partial Controller Support'\n",
      " 'Cross-Platform Multiplayer' 'Captions available' 'LAN PvP'\n",
      " 'Animation & Modeling' 'Physics' 'Mod' 'LAN Co-op' 'MMO'\n",
      " 'Post-apocalyptic' 'Nudity' 'Survival Horror' 'Local Co-Op'\n",
      " 'Remote Play Together' 'Zombies' 'Includes Source SDK' 'Horror' 'Gore'\n",
      " 'Choices Matter' 'Dark Fantasy' 'Magic' 'Multiple Endings' 'Dark'\n",
      " 'Story Rich' 'Medieval' 'Space' 'Social Deduction' 'Sci-fi' 'Colorful'\n",
      " 'Local Multiplayer' 'Aliens' 'Top-Down' 'Minigames' 'Psychological'\n",
      " 'Casual' 'Party Game' 'Family Friendly' 'Driving' 'Relaxing' 'Economy'\n",
      " 'Management' 'Immersive Sim' 'Controller' 'Transportation'\n",
      " 'Photo Editing' 'Software' 'Design & Illustration' 'Anime' 'Memes'\n",
      " 'Utilities' 'Game Development' 'Cute' 'Gaming' 'NSFW' 'PvE'\n",
      " 'Gun Customization' 'Heist' 'Looter Shooter' 'Psychological Horror'\n",
      " 'Violent' 'Blood' 'Shared/Split Screen' 'Soccer' '4 Player Local'\n",
      " 'Split Screen' 'Shared/Split Screen PvP' 'Football'\n",
      " 'Shared/Split Screen Co-op' 'Sports' 'Agriculture' 'Fishing' 'Dating Sim'\n",
      " 'Life Sim' 'Farming Sim' 'Base-Building' 'Dinosaurs' 'Dragons'\n",
      " 'Souls-like' 'Walking Simulator' '3D' 'Parkour' 'Ninja' 'Lore-Rich'\n",
      " 'Hack and Slash' 'Investigation' 'Mystery' 'Supernatural' 'Thriller'\n",
      " 'Detective' 'Demons' 'VR' 'Lovecraftian' 'Loot' 'Cyberpunk' 'Cinematic'\n",
      " 'MMORPG' 'Futuristic' '3D Platformer' 'Mythology' 'Rogue-lite'\n",
      " 'Destruction' 'JRPG' 'Steam Leaderboards' 'Level Editor'\n",
      " 'Female Protagonist' 'Puzzle' 'Science' 'Puzzle-Platformer' 'Dark Humor'\n",
      " 'Action-Adventure' 'Epic' 'Horses' 'Western' 'Beautiful' 'Combat'\n",
      " 'Historical' 'Vehicular Combat' 'Flight' 'Modern' 'Naval Combat'\n",
      " 'Cold War' 'Tanks' 'World War II' '2D Fighter' '2D Platformer' 'Fighting'\n",
      " 'Side Scroller' 'Metroidvania' 'Hand-drawn' 'Pirates' 'Naval' 'Sailing'\n",
      " 'Swordplay' '3D Vision' 'Reboot' 'Quick-Time Events' 'Action Roguelike'\n",
      " 'Rogue-like' 'Remake' 'Procedural Generation' 'Dungeon Crawler'\n",
      " 'Soundtrack' 'Bullet Hell' 'Classic' 'Old School' \"1990's\" 'Score Attack'\n",
      " 'Assassin' '1980s' 'Nostalgia' 'Voxel' 'VR Support' 'Underwater'\n",
      " 'Perma Death' 'LGBTQ+' 'Isometric' 'Resource Management'\n",
      " 'Real-Time with Pause' 'City Builder' 'Steam Turn Notifications'\n",
      " 'Grand Strategy' '4X' 'Hex Grid' 'Turn-Based Strategy' 'Turn-Based'\n",
      " 'Music' 'Arcade' 'Rhythm' 'Precision Platformer' 'Space Sim' 'Diplomacy'\n",
      " 'Touch-Friendly' 'Addictive' 'Alternate History' 'Retro' 'Sexual Content'\n",
      " 'Visual Novel' 'Romance' 'Point & Click' 'Inventory Management'\n",
      " 'Time Manipulation' 'Time Travel' 'Episodic' 'Trains' 'Automation'\n",
      " 'Silent Protagonist' 'Dystopian' 'Co-op Campaign' 'CRPG' 'Tactical RPG'\n",
      " 'Strategy RPG' 'Party-Based RPG' 'Colony Sim' 'Choose Your Own Adventure'\n",
      " 'Hentai' 'Steampunk' 'Immersive' 'Linear' 'Mechs' 'Vampire'\n",
      " 'Deckbuilding' 'Roguelike Deckbuilder' 'Card Battler' 'Card Game'\n",
      " 'Mouse only' 'Illuminati' 'Time Management' 'Short' \"Shoot 'Em Up\"\n",
      " 'Warhammer 40K' 'Games Workshop' 'Real Time Tactics' 'Roguevania'\n",
      " 'America' 'Gothic' 'Kickstarter' 'Turn-Based Combat' 'Hunting'\n",
      " 'Education' 'Real-Time' 'Wargame' 'Arena Shooter' 'Nonlinear' 'Political'\n",
      " 'Character Action Game' 'Spectacle fighter' 'Emotional' \"Beat 'em up\"\n",
      " 'Martial Arts' 'Satire' 'Drama' '2.5D' 'Match 3' 'Crowdfunded' 'Stylized'\n",
      " 'Superhero' 'Comic Book' 'Top-Down Shooter' 'Surreal' 'Psychedelic'\n",
      " 'Chess' 'Turn-Based Tactics' 'Board Game' 'Auto Battler' 'VR Only' 'FMV'\n",
      " 'Experimental' 'Unforgiving' 'Sniper' 'Based On A Novel' 'Dark Comedy'\n",
      " 'Archery' 'Well-Written' 'World War I' 'Parody' 'Artificial Intelligence'\n",
      " 'TrackIR' 'Twin Stick Shooter' 'Cats' 'Music-Based Procedural Generation'\n",
      " 'Political Sim' 'Politics' 'Interactive Fiction' 'RPGMaker' 'Rome'\n",
      " 'Capitalism' '3D Fighter' 'Noir' 'Trading Card Game' 'Nature' 'Idler'\n",
      " 'Clicker' 'Narration' 'Dynamic Narration' 'Tabletop' 'God Game' 'Hacking'\n",
      " 'Golf' 'Mini Golf' 'Tutorial' 'Runner' 'Cooking' 'Collectathon' 'LEGO'\n",
      " 'Philosophical' 'Outbreak Sim' 'Hardware' 'Combat Racing'\n",
      " 'Audio Production' 'Minimalist' 'Vikings' 'Ambient' 'Narrative'\n",
      " 'Bullet Time' 'Motorbike' 'Mining' 'Party' 'GameMaker' 'Video Production'\n",
      " 'Offroad' 'Villain Protagonist' 'Conversation' 'Masterpiece' 'Jump Scare'\n",
      " 'Foreign' 'Werewolves' 'Action RTS' 'Basketball' 'Cult Classic' 'Logic'\n",
      " 'Transhumanism' 'Time Attack' 'Intentionally Awkward Controls'\n",
      " 'Football (American)' 'Football (Soccer)' 'Submarine'\n",
      " 'Creature Collector' 'Movie' 'Conspiracy' 'Text-Based' 'Benchmark'\n",
      " 'Dungeons & Dragons' 'Programming' 'Medical Sim' 'Dog'\n",
      " 'Software Training' 'Jet' 'Abstract' 'Word Game' 'Batman'\n",
      " 'Mystery Dungeon' 'Grid-Based Movement' 'Spaceships' 'Hidden Object'\n",
      " 'Escape Room' 'Typing' 'Mars' 'Skiing' 'Snow' 'Snowboarding' 'Gambling'\n",
      " 'Rock Music' 'Cozy' 'Experience' 'Sokoban' 'Asynchronous Multiplayer'\n",
      " 'Skateboarding' 'Skating' 'HDR available' 'Lara Croft' 'Lemmings' 'Faith'\n",
      " 'Sequel' 'ATV' 'BMX' 'Bikes' 'Cycling' 'Asymmetric VR' 'Musou'\n",
      " 'Boss Rush' 'Boxing' 'Farming' '6DOF' 'Wholesome' 'Otome' 'Motocross'\n",
      " 'Mods' 'Mods (require HL2)' 'Documentary' 'Underground' 'Web Publishing'\n",
      " 'Voice Control' 'Pool' 'Wrestling' 'Spelling' 'Traditional Roguelike'\n",
      " 'Hockey' 'Bowling' 'Trivia' 'Pinball' 'Electronic Music'\n",
      " 'Extraction Shooter' '360 Video' 'On-Rails Shooter' 'Tennis' 'Cricket'\n",
      " 'Solitaire' 'Electronic' 'Feature Film' 'Baseball' 'Instrumental Music'\n",
      " 'Volleyball' 'Steam Machine' 'Job Simulator' 'VR Supported'\n",
      " 'Tracked Controller Support' 'Hobby Sim' 'Birds' 'Accounting'\n",
      " '8-bit Music' 'Mahjong' 'Shop Keeper' 'Rugby' 'Coding' 'Fox'\n",
      " 'Tile-Matching']\n",
      "486\n"
     ]
    }
   ],
   "source": [
    "all_tags = games['full_tags'].str.split(',').explode().str.strip()\n",
    "\n",
    "# Get unique values\n",
    "unique_tags = all_tags.unique()\n",
    "print(unique_tags)\n",
    "print(len(unique_tags))"
   ]
  },
  {
   "cell_type": "code",
   "execution_count": 58,
   "metadata": {},
   "outputs": [
    {
     "data": {
      "text/plain": [
       "0        Steam Trading Cards\n",
       "0                    Trading\n",
       "0                   Tactical\n",
       "0               Free to Play\n",
       "0                  Difficult\n",
       "                ...         \n",
       "63398                 Casual\n",
       "63398            Farming Sim\n",
       "63398     Steam Leaderboards\n",
       "63398       Action-Adventure\n",
       "63398                 Sports\n",
       "Name: full_tags, Length: 1025043, dtype: object"
      ]
     },
     "execution_count": 58,
     "metadata": {},
     "output_type": "execute_result"
    }
   ],
   "source": [
    "all_tags"
   ]
  },
  {
   "cell_type": "code",
   "execution_count": 59,
   "metadata": {},
   "outputs": [
    {
     "name": "stdout",
     "output_type": "stream",
     "text": [
      "Empty DataFrame\n",
      "Columns: [gameID, Name, Positive, Negative, Recommendations, Average playtime forever, Median playtime forever, Dev, full_tags, year, rating]\n",
      "Index: []\n"
     ]
    }
   ],
   "source": [
    "print(games[games['full_tags'].isna()])"
   ]
  },
  {
   "cell_type": "code",
   "execution_count": 60,
   "metadata": {},
   "outputs": [
    {
     "name": "stdout",
     "output_type": "stream",
     "text": [
      "Empty DataFrame\n",
      "Columns: [gameID, Name, Positive, Negative, Recommendations, Average playtime forever, Median playtime forever, Dev, full_tags, year, rating]\n",
      "Index: []\n"
     ]
    }
   ],
   "source": [
    "print(games[games['Dev'].isna()])"
   ]
  },
  {
   "cell_type": "code",
   "execution_count": 61,
   "metadata": {},
   "outputs": [
    {
     "name": "stdout",
     "output_type": "stream",
     "text": [
      "       gameID                    Name  Positive  Negative  Recommendations  \\\n",
      "2086     2086      Narcissu 1st & 2nd      3674       189                0   \n",
      "2200     2200             音灵 INVAXION      3418      2754             5512   \n",
      "2288     2288              Crashlands      3215       442             2896   \n",
      "2450     2450   fault - milestone one      2912       210             2281   \n",
      "2587     2587     Missing Translation      2666       372              113   \n",
      "...       ...                     ...       ...       ...              ...   \n",
      "60396   60396      Formula Bit Racing         1         2                0   \n",
      "60598   60598      Retro Pixel Racers         1         4                0   \n",
      "60765   60765         Destruct Blocks         1         0                0   \n",
      "61268   61268       Cargo Truck Racer         1         0                0   \n",
      "62777   62777  Castle Of Pixel Skulls         0         1                0   \n",
      "\n",
      "       Average playtime forever  Median playtime forever  \\\n",
      "2086                         56                       37   \n",
      "2200                        808                      664   \n",
      "2288                        733                      731   \n",
      "2450                        208                      269   \n",
      "2587                         26                       28   \n",
      "...                         ...                      ...   \n",
      "60396                         0                        0   \n",
      "60598                         0                        0   \n",
      "60765                         0                        0   \n",
      "61268                         0                        0   \n",
      "62777                         0                        0   \n",
      "\n",
      "                                                     Dev  \\\n",
      "2086                            stage-nana,Sekai Project   \n",
      "2200                           Nanjing AQUATRAX,bilibili   \n",
      "2288                            Butterscotch Shenanigans   \n",
      "2450                                 ALICE IN DISSONANCE   \n",
      "2587   Albert Fernandez,GamesBoosters,AlPixel Games,L...   \n",
      "...                                                  ...   \n",
      "60396                           Josep Monzonis Hernandez   \n",
      "60598                           Josep Monzonis Hernandez   \n",
      "60765                                      NanningsGames   \n",
      "61268                                      NanningsGames   \n",
      "62777                           Josep Monzonis Hernandez   \n",
      "\n",
      "                                               full_tags  year  rating  \n",
      "2086   Adventure,Singleplayer,Single-player,Crowdfund...  2015   95.11  \n",
      "2200   Partial Controller Support,Single-player,Indie...  2018   55.38  \n",
      "2288   Steam Trading Cards,Single-player,Female Prota...  2016   87.91  \n",
      "2450   Adventure,Steam Trading Cards,Single-player,Si...  2014   93.27  \n",
      "2587   Adventure,Steam Trading Cards,Single-player,Si...  2015   87.76  \n",
      "...                                                  ...   ...     ...  \n",
      "60396  3D,Arcade,Singleplayer,Single-player,Retro,Iso...  2021   33.33  \n",
      "60598  Single-player,Racing,Steam Achievements,Partia...  2019   20.00  \n",
      "60765  Linear,Arcade,Singleplayer,Single-player,Steam...  2023  100.00  \n",
      "61268  Funny,Linear,3D,Singleplayer,Single-player,Ste...  2023  100.00  \n",
      "62777  Single-player,Indie,Casual,Steam Achievements,...  2019    0.00  \n",
      "\n",
      "[213 rows x 11 columns]\n"
     ]
    }
   ],
   "source": [
    "nan_rows = games[games['Dev'].str.contains('nan', case=False, na=False)]\n",
    "print(nan_rows)"
   ]
  },
  {
   "cell_type": "code",
   "execution_count": 62,
   "metadata": {},
   "outputs": [
    {
     "name": "stdout",
     "output_type": "stream",
     "text": [
      "Empty DataFrame\n",
      "Columns: [gameID, Name, Positive, Negative, Recommendations, Average playtime forever, Median playtime forever, Dev, full_tags, year, rating]\n",
      "Index: []\n"
     ]
    }
   ],
   "source": [
    "nan_rows = games[games['full_tags'].str.contains('nan', case=False, na=False)]\n",
    "print(nan_rows)"
   ]
  }
 ],
 "metadata": {
  "kernelspec": {
   "display_name": "Python 3",
   "language": "python",
   "name": "python3"
  },
  "language_info": {
   "codemirror_mode": {
    "name": "ipython",
    "version": 3
   },
   "file_extension": ".py",
   "mimetype": "text/x-python",
   "name": "python",
   "nbconvert_exporter": "python",
   "pygments_lexer": "ipython3",
   "version": "3.10.6"
  }
 },
 "nbformat": 4,
 "nbformat_minor": 2
}
